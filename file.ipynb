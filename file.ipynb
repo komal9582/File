{
  "cells": [
    {
      "cell_type": "markdown",
      "source": [
        "#Files, exceptional handling, logging and memory management Questions"
      ],
      "metadata": {
        "id": "kp9ELqMbl8cP"
      }
    },
    {
      "cell_type": "markdown",
      "source": [
        "1. What is the difference between interpreted and compiled languages?\n",
        "  >. Interpreted language like python, the code is executed line by line, so error are shown immediately.\n",
        "\n",
        "  >. Compiled language like C or Java , the whole code is first translated into machine code, then executed."
      ],
      "metadata": {
        "id": "6-QyyzQemJzb"
      }
    },
    {
      "cell_type": "markdown",
      "source": [
        "2. What is exception handling in Python?\n",
        "  >. Exception handling in python is a way to manage error during program execution using try, except, finally, and else block."
      ],
      "metadata": {
        "id": "RP_PASwkmJu2"
      }
    },
    {
      "cell_type": "markdown",
      "source": [
        "3. What is the purpose of the finally block in exception handling?\n",
        "  >. The finally block always runs, no matter if an wrror happens or not. It is mostly use for cleanup task like clasing files or connections."
      ],
      "metadata": {
        "id": "llYU96YFmJra"
      }
    },
    {
      "cell_type": "markdown",
      "source": [
        "4. What is logging in Python?\n",
        "  >. Logging is a way to record messages about what the program is doing. It hepls in debugging and tracking the flow of the program."
      ],
      "metadata": {
        "id": "5-U_gA89mJlY"
      }
    },
    {
      "cell_type": "markdown",
      "source": [
        "5. What is the significance of the __del__ method in Python?\n",
        "  >. The __del__ method is a destructor. It called when an object is deleted or goes out of scope, and it is used to released resource."
      ],
      "metadata": {
        "id": "iOfHvwkqmJgd"
      }
    },
    {
      "cell_type": "markdown",
      "source": [
        "6. What is the difference between import and from ... import in Python?\n",
        "  >. import module import the whole module.\n",
        "\n",
        "      >. from module import function import only a specfic function/ class from that module."
      ],
      "metadata": {
        "id": "6ogeeIo_mJcD"
      }
    },
    {
      "cell_type": "markdown",
      "source": [
        "7. How can you handle multiple exceptions in Python?\n",
        "  >. you can handle multiple excetions by writing multiple except block or by grouping exceptions inside parentheses."
      ],
      "metadata": {
        "id": "3UqdFlktmJWo"
      }
    },
    {
      "cell_type": "markdown",
      "source": [
        "8. What is the purpose of the with statement when handling files in Python?\n",
        "   >. The with statement automatically closes the file after use, even if an error occurs."
      ],
      "metadata": {
        "id": "e2BgO-LrmJR7"
      }
    },
    {
      "cell_type": "markdown",
      "source": [
        "9. What is the difference between multithreading and multiprocessing?\n",
        "  >. Multithreading : Runs multiple threads within the same process(share mempory).\n",
        "\n",
        "     >. Multiprocessing : Runs multiple processes each with its own memory(faster for CUP-heavy tasks)."
      ],
      "metadata": {
        "id": "Q1gCCfhYmJOi"
      }
    },
    {
      "cell_type": "markdown",
      "source": [
        "10. What are the advantages of using logging in a program?\n",
        "  >1. Hepls track error.\n",
        "  >2. Stores messages for debugging.\n",
        "  >3. Make code easier to monitor and maintian."
      ],
      "metadata": {
        "id": "ihFn6NlMmJIc"
      }
    },
    {
      "cell_type": "markdown",
      "source": [
        "11. What is memory management in Python?\n",
        "  >. Memory management in python is done automatically using reference counting and garbage collection to free unused memory."
      ],
      "metadata": {
        "id": "HjmkV64wmJDC"
      }
    },
    {
      "cell_type": "markdown",
      "source": [
        "12. What are the basic steps involved in exception handling in Python?  \n",
        "  >1. Writing the risky code inside try.\n",
        "  >2. Handle error inside except.\n",
        "  >3. Use else if not error happens.\n",
        "  >4. Use finally for cleanup work."
      ],
      "metadata": {
        "id": "j0hR23r7mI-T"
      }
    },
    {
      "cell_type": "markdown",
      "source": [
        "13. Why is memory management important in Python?\n",
        " >. It prevents memory leaks, keeps, program efficient, and ensures smooth execution without slowing down."
      ],
      "metadata": {
        "id": "NLjclQeNmI5q"
      }
    },
    {
      "cell_type": "markdown",
      "source": [
        "14. What is the role of try and except in exception handling?\n",
        "  >. try: Hold the code that may cause an error.\n",
        "\n",
        "     >. except: Defines how the error will be handled if it occurs."
      ],
      "metadata": {
        "id": "gqSGpO2jmI0c"
      }
    },
    {
      "cell_type": "markdown",
      "source": [
        "15. How does Python's garbage collection system work?\n",
        "  >. Pyhton uses reference counting ans a grabage collector to delete object that are no longer needed."
      ],
      "metadata": {
        "id": "4sLyGaO6mIw4"
      }
    },
    {
      "cell_type": "markdown",
      "source": [
        "16. What is the purpose of the else block in exception handling?\n",
        "  >. The else block runs only if no error occurs in the try block."
      ],
      "metadata": {
        "id": "V5hJXYS-mIrF"
      }
    },
    {
      "cell_type": "markdown",
      "source": [
        "17. What are the common logging levels in Python?\n",
        "  >1. DEBUG - Detailed information (for developer).\n",
        "  >2. INFO - Gerenal program updates.\n",
        "  >3. WARNING - somthing unusual but not breaking.\n",
        "  >4. CRITICAL - Very serious error.\n",
        "  >5. ERROR - An error occurred."
      ],
      "metadata": {
        "id": "Wxv6CZuzmImK"
      }
    },
    {
      "cell_type": "markdown",
      "source": [
        "18. What is the difference between os.fork() and multiprocessing in Python?\n",
        "   >. os.frok: work only on Unix/Linu, directly create a child process.\n",
        "   \n",
        "      >. multiprocessing: cross - platform and provides an easier interface or paraller processing."
      ],
      "metadata": {
        "id": "W-TK1jYKmIg5"
      }
    },
    {
      "cell_type": "markdown",
      "source": [
        "19. What is the importance of closing a file in Python?\n",
        "  >. closing a files free system resources and ensures that all data is properly written to the file."
      ],
      "metadata": {
        "id": "l4K9ig8TmIbE"
      }
    },
    {
      "cell_type": "markdown",
      "source": [
        "20. What is the difference between file.read() and file.readline() in Python?\n",
        "  >. file,read(): Read the whole file at once.\n",
        "\n",
        "    >.file.realine(): Read only one line at a time."
      ],
      "metadata": {
        "id": "xvFGwqjjmIUf"
      }
    },
    {
      "cell_type": "markdown",
      "source": [
        "21. What is the logging module in Python used for?\n",
        "  >. The logging module is used to record program message, error, and debugging information."
      ],
      "metadata": {
        "id": "cw8jxoBKmINM"
      }
    },
    {
      "cell_type": "markdown",
      "source": [
        "22. What is the os module in Python used for in file handling?\n",
        "  >. The os module helps interact with the operating system. For file handling, it allow creating, deleting, and managing files and directories."
      ],
      "metadata": {
        "id": "kp46Q83EmIBZ"
      }
    },
    {
      "cell_type": "markdown",
      "source": [
        "23. What are the challenges associated with memory management in Python?\n",
        "  >. Circular reference, object referring to each other.\n",
        "  \n",
        "    >. Memory leaks if the reference are not cleared.\n",
        "\n",
        "    >. High memory is used in large data processing."
      ],
      "metadata": {
        "id": "OKXsJoOjmH8i"
      }
    },
    {
      "cell_type": "markdown",
      "source": [
        "24.  How do you raise an exception manually in Python?\n",
        "  >.by using the raise keyword. example:"
      ],
      "metadata": {
        "id": "pogvNQlQmFqE"
      }
    },
    {
      "cell_type": "code",
      "source": [
        "raise ValueError(\"this is a custom error\")"
      ],
      "metadata": {
        "id": "0coKUz6cClNa"
      },
      "execution_count": null,
      "outputs": []
    },
    {
      "cell_type": "markdown",
      "source": [
        "25. Why is it important to use multithreading in certain applications?\n",
        "  >. Multithreading helps in runing multiple tasks at the same time, improves performance, and make program faster (like downloading fils while still being able to use the program)."
      ],
      "metadata": {
        "id": "3V7iov45mGjS"
      }
    },
    {
      "cell_type": "markdown",
      "source": [
        "#Practical Questions"
      ],
      "metadata": {
        "id": "DW1C-3BQqgjY"
      }
    },
    {
      "cell_type": "markdown",
      "source": [
        "1. How can you open a file for writing in Python and write a string to it?"
      ],
      "metadata": {
        "id": "oITYuafGquvv"
      }
    },
    {
      "cell_type": "code",
      "source": [
        "with open(\"file.txt\",\"w\") as f:\n",
        "  f.write(\"Hi I'm komal.\\n\")\n",
        "  f.write(\" I am learning python.\\n\")\n",
        "  f.close() # It's good practice to close the file when done"
      ],
      "metadata": {
        "id": "OoXA4fCViDZT"
      },
      "execution_count": null,
      "outputs": []
    },
    {
      "cell_type": "markdown",
      "source": [
        "2. Write a Python program to read the contents of a file and print each line."
      ],
      "metadata": {
        "id": "p2BrciWEqupt"
      }
    },
    {
      "cell_type": "code",
      "source": [
        "# create and write some text into example.txt\n",
        "with open(\"example.txt\",\"w\") as f:\n",
        "  f.write(\" Hi I'm komal.\\n\")\n",
        "  f.write(\" I'm creating a file for read each line.\\n\")\n",
        "  f.write(\" This file is practice purpose.\\n\")\n",
        "\n",
        "import os\n",
        "\n",
        "if os.path.exists(\"example.txt\"):\n",
        "  with open(\"example.txt\", \"r\") as f:\n",
        "    for line in f:\n",
        "      print(line.rstrip(\"\\n\"))\n",
        "else:\n",
        "  print(\"file dose not exist!\")"
      ],
      "metadata": {
        "colab": {
          "base_uri": "https://localhost:8080/"
        },
        "id": "UsL9m7--Ke0G",
        "outputId": "49f36019-106c-4279-e2f7-cbd9d6f1cec8"
      },
      "execution_count": null,
      "outputs": [
        {
          "output_type": "stream",
          "name": "stdout",
          "text": [
            " Hi I'm komal.\n",
            " I'm creating a file for read each line.\n",
            " This file is practice purpose.\n"
          ]
        }
      ]
    },
    {
      "cell_type": "markdown",
      "source": [
        "3. How would you handle a case where the file doesn't exist while trying to open it for reading?"
      ],
      "metadata": {
        "id": "FjwJ4pD3quje"
      }
    },
    {
      "cell_type": "code",
      "source": [
        "try:\n",
        "  with open(\"missing.txt\",\"r\") as f:\n",
        "    print(f.read)\n",
        "except FileNotFoundError:\n",
        "  print(\"File not found. please check the filename or path.\")"
      ],
      "metadata": {
        "colab": {
          "base_uri": "https://localhost:8080/"
        },
        "id": "Q_GFt31DLYUf",
        "outputId": "7b215be7-15dd-4d82-85f5-2195841fa285"
      },
      "execution_count": null,
      "outputs": [
        {
          "output_type": "stream",
          "name": "stdout",
          "text": [
            "File not found. please check the filename or path.\n"
          ]
        }
      ]
    },
    {
      "cell_type": "markdown",
      "source": [
        "4. Write a Python script that reads from one file and writes its content to another file."
      ],
      "metadata": {
        "id": "it2m9BaiqueC"
      }
    },
    {
      "cell_type": "code",
      "source": [
        "epl = \"example.txt\" # Corrected the typo in the filename\n",
        "fle = \"file.txt\"\n",
        "with open(epl,\"r\") as s, open(fle,\"w\") as d:\n",
        "  for line in s:\n",
        "    d.write(line)"
      ],
      "metadata": {
        "id": "caKCnb53PsDz"
      },
      "execution_count": null,
      "outputs": []
    },
    {
      "cell_type": "markdown",
      "source": [
        "5. How would you catch and handle division by zero error in Python?"
      ],
      "metadata": {
        "id": "XrySXU_1quXn"
      }
    },
    {
      "cell_type": "code",
      "source": [
        "''' 100/0'''\n",
        "#ZeroDivisionError\n",
        "\n",
        "try:\n",
        "  100/0 #suspicion\n",
        "except ZeroDivisionError as e:\n",
        "  print(\"Handling division bt zero error\", e)"
      ],
      "metadata": {
        "colab": {
          "base_uri": "https://localhost:8080/"
        },
        "id": "L0h1k86dWqEr",
        "outputId": "65d85738-7337-4b57-b008-be770a74051e"
      },
      "execution_count": null,
      "outputs": [
        {
          "output_type": "stream",
          "name": "stdout",
          "text": [
            "Handling division bt zero error division by zero\n"
          ]
        }
      ]
    },
    {
      "cell_type": "markdown",
      "source": [
        "6. Write a Python program that logs an error message to a log file when a division by zero exception occurs."
      ],
      "metadata": {
        "id": "tYAp4h11quST"
      }
    },
    {
      "cell_type": "code",
      "source": [
        "import logging\n",
        "logging.basicConfig(filename='error.log',\n",
        "                    level=logging.ERROR,\n",
        "                    format='%(asctime)s %(levelname)s %(message)s') # Format string should be in quotes\n",
        "try:\n",
        "  result = 5/0\n",
        "except ZeroDivisionError:\n",
        "  logging.exception(\"Division by zero occurred\")"
      ],
      "metadata": {
        "colab": {
          "base_uri": "https://localhost:8080/"
        },
        "id": "UYEKTPJHQ0ZN",
        "outputId": "087faef9-2fdd-4627-fb3d-32a5c2cae9cf"
      },
      "execution_count": null,
      "outputs": [
        {
          "output_type": "stream",
          "name": "stderr",
          "text": [
            "ERROR:root:Division by zero occurred\n",
            "Traceback (most recent call last):\n",
            "  File \"/tmp/ipython-input-118187475.py\", line 6, in <cell line: 0>\n",
            "    result = 5/0\n",
            "             ~^~\n",
            "ZeroDivisionError: division by zero\n"
          ]
        }
      ]
    },
    {
      "cell_type": "markdown",
      "source": [
        "7. How do you log information at different levels (INFO, ERROR, WARNING) in Python using the logging module?"
      ],
      "metadata": {
        "id": "qpwJNyCqquO9"
      }
    },
    {
      "cell_type": "code",
      "source": [
        "import logging\n",
        "logging.basicConfig(filename=\"app.log\",\n",
        "                    level=logging.INFO,\n",
        "                    format='%(asctime)s %(levelname)s %(message)s')\n",
        "logging.info(\"This is an info message\")\n",
        "logging.error(\"This is an error\")\n",
        "logging.warning(\"This is warning\")"
      ],
      "metadata": {
        "colab": {
          "base_uri": "https://localhost:8080/"
        },
        "id": "z_o0M6BmSC1o",
        "outputId": "6eee1be5-adf4-4025-9e46-6b613466d295"
      },
      "execution_count": null,
      "outputs": [
        {
          "output_type": "stream",
          "name": "stderr",
          "text": [
            "ERROR:root:This is an error\n",
            "WARNING:root:This is warning\n"
          ]
        }
      ]
    },
    {
      "cell_type": "markdown",
      "source": [
        "8. Write a program to handle a file opening error using exception handling."
      ],
      "metadata": {
        "id": "MtEcdBu8quIM"
      }
    },
    {
      "cell_type": "code",
      "source": [
        "try:\n",
        "  with open('/protcet/file.txt', \"r\") as f:\n",
        "    data = f.read()\n",
        "except OsError as e:  # catch FileNotFoundError\n",
        "  print(f\"file error:{e}\")"
      ],
      "metadata": {
        "id": "jKHdeVUoTKYp"
      },
      "execution_count": null,
      "outputs": []
    },
    {
      "cell_type": "markdown",
      "source": [
        "9. How can you read a file line by line and store its content in a list in Python?"
      ],
      "metadata": {
        "id": "zzWiGSJnquC9"
      }
    },
    {
      "cell_type": "code",
      "source": [
        "lines=[]\n",
        "with open(\"example.txt\",\"r\") as f:\n",
        "  lines = [line.rstrip(\"\\n\") for line in f] # Corrected list comprehension"
      ],
      "metadata": {
        "colab": {
          "base_uri": "https://localhost:8080/",
          "height": 69
        },
        "id": "UfRquCmOUFs1",
        "outputId": "9cf12f3e-c6c4-4912-d1f7-b72f66e1eb01"
      },
      "execution_count": null,
      "outputs": [
        {
          "output_type": "display_data",
          "data": {
            "text/plain": [
              "[\" Hi I'm komal.\",\n",
              " \" I'm creating a file for read each line.\",\n",
              " ' This file is practice purpose.']"
            ]
          },
          "metadata": {}
        }
      ]
    },
    {
      "cell_type": "markdown",
      "source": [
        "10. How can you append data to an existing file in Python?"
      ],
      "metadata": {
        "id": "y_cJlaplqt9s"
      }
    },
    {
      "cell_type": "code",
      "source": [
        "with open(\"example.txt\", \"a\") as f:\n",
        "  f.write(\"Append this new line.\\n\")"
      ],
      "metadata": {
        "id": "X34xohB3UsrA"
      },
      "execution_count": null,
      "outputs": []
    },
    {
      "cell_type": "markdown",
      "source": [
        "11. Write a Python program that uses a try-except block to handle an error when attempting to access a\n",
        "dictionary key that doesn't exist."
      ],
      "metadata": {
        "id": "8H9CdKANqt4a"
      }
    },
    {
      "cell_type": "code",
      "source": [
        "dic = {\"Name\": \"Komal\", \"Course\": \"Data analysis\",\"fee\":20000}\n",
        "'''dic[Age]''' #it will throw KeyError\n",
        "\n",
        "try:\n",
        "  dic = {\"Name\": \"Komal\", \"Course\": \"Data analysis\",\"fee\":20000}\n",
        "  dic['Age']\n",
        "except KeyError as e:\n",
        "  print(\"Access a dictionary key that doesn't exist.\", e)"
      ],
      "metadata": {
        "colab": {
          "base_uri": "https://localhost:8080/"
        },
        "id": "AA0s1N2kTwVF",
        "outputId": "023e122a-8462-43b2-ebc0-2bd6b7e77da5"
      },
      "execution_count": null,
      "outputs": [
        {
          "output_type": "stream",
          "name": "stdout",
          "text": [
            "Access a dictionary key that doesn't exist. 'Age'\n"
          ]
        }
      ]
    },
    {
      "cell_type": "markdown",
      "source": [
        "12. Write a program that demonstrates using multiple except blocks to handle different types of exceptions."
      ],
      "metadata": {
        "id": "HauAebxuqtzT"
      }
    },
    {
      "cell_type": "code",
      "source": [
        "try:\n",
        "  data = \"123\"\n",
        "  num = int(data)\n",
        "  list=[]\n",
        "  item = lst[0]\n",
        "except ValueError:\n",
        "  print(\"ValueError: couldn't convert to int.\")\n",
        "except IndexError:\n",
        "  print(\"IndexError: list index out of range\")\n",
        "except Exception as e:\n",
        "  print(\"some other error:\", e)"
      ],
      "metadata": {
        "colab": {
          "base_uri": "https://localhost:8080/"
        },
        "id": "XV19dO0-VHZg",
        "outputId": "7a6ea054-42ca-406d-886a-3217c1c4a278"
      },
      "execution_count": null,
      "outputs": [
        {
          "output_type": "stream",
          "name": "stdout",
          "text": [
            "some other error: name 'lst' is not defined\n"
          ]
        }
      ]
    },
    {
      "cell_type": "markdown",
      "source": [
        "13. How would you check if a file exists before attempting to read it in Python?"
      ],
      "metadata": {
        "id": "gfoKuKklqtt4"
      }
    },
    {
      "cell_type": "code",
      "source": [
        "from pathlib import Path # Corrected import statement\n",
        "p = Path(\"example.txt\") # Used Path with a capital P\n",
        "if p.exists():\n",
        "  with p.open(\"r\") as f:\n",
        "    print(f.read())\n",
        "else:\n",
        "  print(\"File dosen't exist.\") # Corrected the SyntaxError here"
      ],
      "metadata": {
        "colab": {
          "base_uri": "https://localhost:8080/"
        },
        "id": "pGG8RezzWTth",
        "outputId": "18885c0e-0d64-4fe7-99ad-d611924c21e2"
      },
      "execution_count": null,
      "outputs": [
        {
          "output_type": "stream",
          "name": "stdout",
          "text": [
            " Hi I'm komal.\n",
            " I'm creating a file for read each line.\n",
            " This file is practice purpose.\n",
            "Append this new line.\n",
            "Append this new line.\n",
            "\n"
          ]
        }
      ]
    },
    {
      "cell_type": "markdown",
      "source": [
        "14. Write a program that uses the logging module to log both informational and error messages."
      ],
      "metadata": {
        "id": "SjZzo2vmqtqc"
      }
    },
    {
      "cell_type": "code",
      "source": [
        "import logging\n",
        "logging.basicConfig(filename=\"combined.log\",\n",
        "                    level=logging.INFO,\n",
        "                    format='%(asctime)s %(levelname)s %(message)s')\n",
        "logging.info(\"started the program\")\n",
        "try:\n",
        "  1/0\n",
        "except ZeroDivisionError:\n",
        "  logging.exception(\"An error occurred during division\")"
      ],
      "metadata": {
        "colab": {
          "base_uri": "https://localhost:8080/"
        },
        "id": "yU84f4syXHkV",
        "outputId": "17809780-73cc-465f-8d75-6b2785919250"
      },
      "execution_count": null,
      "outputs": [
        {
          "output_type": "stream",
          "name": "stderr",
          "text": [
            "ERROR:root:An error occurred during division\n",
            "Traceback (most recent call last):\n",
            "  File \"/tmp/ipython-input-3380362870.py\", line 7, in <cell line: 0>\n",
            "    1/0\n",
            "    ~^~\n",
            "ZeroDivisionError: division by zero\n"
          ]
        }
      ]
    },
    {
      "cell_type": "markdown",
      "source": [
        "15. Write a Python program that prints the content of a file and handles the case when the file is empty."
      ],
      "metadata": {
        "id": "gcW5YdJWqtj4"
      }
    },
    {
      "cell_type": "code",
      "source": [
        "from pathlib import Path\n",
        "p= Path('maybe_empty.txt')\n",
        "if p.exists() and p.start().st_size>0:\n",
        "  with p.open(\"r\") as f:\n",
        "    print(f.read())\n",
        "else:\n",
        "  print(\"file is empty\")"
      ],
      "metadata": {
        "colab": {
          "base_uri": "https://localhost:8080/"
        },
        "id": "HVYMmw2UX1D0",
        "outputId": "fc5bad3a-a1a6-4788-d7ee-330c40f14b6c"
      },
      "execution_count": null,
      "outputs": [
        {
          "output_type": "stream",
          "name": "stdout",
          "text": [
            "file is empty\n"
          ]
        }
      ]
    },
    {
      "cell_type": "markdown",
      "source": [
        "16. Demonstrate how to use memory profiling to check the memory usage of a small program."
      ],
      "metadata": {
        "id": "7qu3FzBrqteg"
      }
    },
    {
      "cell_type": "code",
      "source": [
        "import tracemalloc\n",
        "def make_big_list(n):\n",
        "  return[i*i for i in range(n)]\n",
        "\n",
        "tracemalloc.start()\n",
        "snap1 = tracemalloc.take_snapshot()\n",
        "lst = make_big_list(100000)\n",
        "snap2 = tracemalloc.take_snapshot()\n",
        "top_stats = snap2.compare_to(snap1, 'lineno')\n",
        "print(\"Top memory changes\")\n",
        "for stat in top_stats[:5]:\n",
        "  print(stat)\n",
        "tracemalloc.stop()"
      ],
      "metadata": {
        "id": "a7cCJGmdYk-f",
        "colab": {
          "base_uri": "https://localhost:8080/"
        },
        "outputId": "3bec27af-5ffc-413f-f59e-2259b653be55"
      },
      "execution_count": 4,
      "outputs": [
        {
          "output_type": "stream",
          "name": "stdout",
          "text": [
            "Top memory changes\n",
            "/tmp/ipython-input-2289848938.py:3: size=3907 KiB (+3907 KiB), count=99985 (+99985), average=40 B\n",
            "/usr/lib/python3.12/tracemalloc.py:558: size=544 B (+488 B), count=10 (+9), average=54 B\n",
            "/usr/lib/python3.12/tracemalloc.py:560: size=912 B (+296 B), count=6 (+2), average=152 B\n",
            "/usr/lib/python3.12/tracemalloc.py:423: size=912 B (+296 B), count=6 (+2), average=152 B\n",
            "/usr/lib/python3.12/codeop.py:126: size=2243 B (-160 B), count=34 (-3), average=66 B\n"
          ]
        }
      ]
    },
    {
      "cell_type": "markdown",
      "source": [
        "17. Write a Python program to create and write a list of numbers to a file, one number per line."
      ],
      "metadata": {
        "id": "jiCdS_rOqtZz"
      }
    },
    {
      "cell_type": "code",
      "source": [
        "number = [1,2,3,4,5,6]\n",
        "with open(\"number.txt\", \"w\") as f:\n",
        "  for n in number:\n",
        "    f.write(f\"{n}\\n\")"
      ],
      "metadata": {
        "id": "LXCv2QV_ZDcO"
      },
      "execution_count": null,
      "outputs": []
    },
    {
      "cell_type": "markdown",
      "source": [
        "18. How would you implement a basic logging setup that logs to a file with rotation after 1MB?"
      ],
      "metadata": {
        "id": "yb4JzPzsqtWR"
      }
    },
    {
      "cell_type": "code",
      "source": [
        "import logging\n",
        "from logging.handlers import RotatingFileHandler # Corrected typo\n",
        "logger = logging.getLogger('myapp')\n",
        "logger.setLevel(logging.INFO)\n",
        "\n",
        "handler = RotatingFileHandler('rotating.log', # Corrected typo in filename\n",
        "maxBytes= 1*1024*1024, backupCount=3)\n",
        "formatter = logging.Formatter('%(asctime)s %(levelname)s %(message)s')\n",
        "handler.setFormatter(formatter)\n",
        "logger.addHandler(handler)\n",
        "\n",
        "logger.info(\"this is a rotated log entry\") # Corrected typo"
      ],
      "metadata": {
        "colab": {
          "base_uri": "https://localhost:8080/"
        },
        "id": "PeXDisCxBAyo",
        "outputId": "0c58a5fa-9b6d-433a-f24a-1bf53759e80b"
      },
      "execution_count": 6,
      "outputs": [
        {
          "output_type": "stream",
          "name": "stderr",
          "text": [
            "INFO:myapp:this is a rotated log entry\n"
          ]
        }
      ]
    },
    {
      "cell_type": "markdown",
      "source": [
        "19. Write a program that handles both IndexError and KeyError using a try-except block."
      ],
      "metadata": {
        "id": "S39mAgzjqtRA"
      }
    },
    {
      "cell_type": "code",
      "source": [
        "# IndexError\n",
        "list = [1,2,3,4,5]\n",
        "# list[5] # it will give Index error\n",
        "try:\n",
        "  list = [1,2,3,4,5]\n",
        "  list[5]\n",
        "except IndexError as e:\n",
        "  print(\"Handling the excepyt error\", e)\n",
        "\n",
        "#KeyError\n",
        "dic = {\"Name\": \"Komal\", \"Course\": \"Data analysis\",\"age\":21}\n",
        "'''dic[\"fee\"]''' #it will throw KeyError\n",
        "\n",
        "try:\n",
        "  dic = {\"Name\": \"Komal\", \"Course\": \"Data analysis\",\"age\":21}\n",
        "  dic['fee']\n",
        "except KeyError as e:\n",
        "  print(\"Handling the except error.\", e)"
      ],
      "metadata": {
        "colab": {
          "base_uri": "https://localhost:8080/"
        },
        "id": "c2xUGSlrZuQl",
        "outputId": "78e84143-c480-47bf-d286-c3946fc5e7f1"
      },
      "execution_count": null,
      "outputs": [
        {
          "output_type": "stream",
          "name": "stdout",
          "text": [
            "Handling the excepyt error list index out of range\n",
            "Handling the except error. 'fee'\n"
          ]
        }
      ]
    },
    {
      "cell_type": "markdown",
      "source": [
        "20. How would you open a file and read its contents using a context manager in Python?"
      ],
      "metadata": {
        "id": "fq4iURjMqtMF"
      }
    },
    {
      "cell_type": "code",
      "source": [
        "with open(\"file.txt\", \"r\") as f:\n",
        "  content = f.read()\n",
        "print(content)"
      ],
      "metadata": {
        "colab": {
          "base_uri": "https://localhost:8080/"
        },
        "id": "wurxg-xWYuIt",
        "outputId": "18d372ed-05db-46f0-f454-4ae20e36049f"
      },
      "execution_count": null,
      "outputs": [
        {
          "output_type": "stream",
          "name": "stdout",
          "text": [
            " Hi I'm komal.\n",
            " I'm creating a file for read each line.\n",
            " This file is practice purpose.\n",
            "\n"
          ]
        }
      ]
    },
    {
      "cell_type": "markdown",
      "source": [
        "21. Write a Python program that reads a file and prints the number of occurrences of a specific word."
      ],
      "metadata": {
        "id": "l7Gl9BOgqtFy"
      }
    },
    {
      "cell_type": "code",
      "source": [
        "import re\n",
        "\n",
        "word = \"python\" # Define the word to search for\n",
        "\n",
        "with open('example.txt', 'r') as f:\n",
        "  text = f.read()\n",
        "\n",
        "count = len(re.findall(rf'\\b{re.escape(word)}\\b', text,\n",
        "flags=re.IGNORECASE)) # Corrected typo and used flags\n",
        "\n",
        "print(f\"The word '{word}' occurs {count} times.\") # Use f-string for printing"
      ],
      "metadata": {
        "colab": {
          "base_uri": "https://localhost:8080/"
        },
        "id": "NoVNk9nFC1Sz",
        "outputId": "f0b7c619-6b3d-4877-d0df-9859090ddcdb"
      },
      "execution_count": 9,
      "outputs": [
        {
          "output_type": "stream",
          "name": "stdout",
          "text": [
            "The word 'python' occurs 0 times.\n"
          ]
        }
      ]
    },
    {
      "cell_type": "markdown",
      "source": [
        "22. How can you check if a file is empty before attempting to read its contents."
      ],
      "metadata": {
        "id": "7W-Ujy96qtCb"
      }
    },
    {
      "cell_type": "code",
      "source": [
        "from pathlib import Path\n",
        "p =Path(\"maybe_empty.txt\")\n",
        "if p.exists() and p.stat().st_size>0:\n",
        "  with p.open(\"r\") as f:\n",
        "    print(f.read())\n",
        "else:\n",
        "  print(\"file is empty or missing.\")"
      ],
      "metadata": {
        "colab": {
          "base_uri": "https://localhost:8080/"
        },
        "id": "QQmbU8IiEwki",
        "outputId": "776af1f7-4df2-45a7-9138-9e4e545f7d63"
      },
      "execution_count": 11,
      "outputs": [
        {
          "output_type": "stream",
          "name": "stdout",
          "text": [
            "file is empty or missing.\n"
          ]
        }
      ]
    },
    {
      "cell_type": "markdown",
      "source": [
        "23. Write a Python program that writes to a log file when an error occurs during file handling."
      ],
      "metadata": {
        "id": "o5rKb7orqs5z"
      }
    },
    {
      "cell_type": "code",
      "source": [
        "import logging\n",
        "logging.basicConfig(filename= \"file_errors.log\",\n",
        "                    level = logging.ERROR,\n",
        "                    format =\"%(asctime)s %(levelname)s %(massage)s\")\n",
        "\n",
        "try:\n",
        "  with open('someonefile.txt', \"r\") as f:\n",
        "    data = f.read()\n",
        "except OSError:\n",
        "  logging.exception(\"Error occurred while handling the file.\")"
      ],
      "metadata": {
        "colab": {
          "base_uri": "https://localhost:8080/"
        },
        "id": "ZMihv_itFtkG",
        "outputId": "15bd405f-8d2c-4fcd-ee73-e3c85ecec473"
      },
      "execution_count": 15,
      "outputs": [
        {
          "output_type": "stream",
          "name": "stderr",
          "text": [
            "ERROR:root:Error occurred while handling the file.\n",
            "Traceback (most recent call last):\n",
            "  File \"/tmp/ipython-input-2050814043.py\", line 7, in <cell line: 0>\n",
            "    with open('someonefile.txt', \"r\") as f:\n",
            "         ^^^^^^^^^^^^^^^^^^^^^^^^^^^^\n",
            "FileNotFoundError: [Errno 2] No such file or directory: 'someonefile.txt'\n"
          ]
        }
      ]
    }
  ],
  "metadata": {
    "colab": {
      "provenance": []
    },
    "kernelspec": {
      "display_name": "Python 3",
      "name": "python3"
    }
  },
  "nbformat": 4,
  "nbformat_minor": 0
}